{
 "cells": [
  {
   "cell_type": "code",
   "execution_count": 17,
   "metadata": {},
   "outputs": [],
   "source": [
    "import matplotlib.pyplot as plt\n",
    "\n",
    "def plot_counters():\n",
    "    try:\n",
    "        # Read counters from the file\n",
    "        with open(\"counters.txt\", \"r\") as counter_file:\n",
    "            lines = counter_file.readlines()\n",
    "            register_count = int(lines[0].split(\":\")[1].strip())\n",
    "            memory_count = int(lines[1].split(\":\")[1].strip())\n",
    "\n",
    "        # Create a bar plot for register instructions\n",
    "        plt.bar([0], [register_count], label=\"Register Instructions\", alpha=0.7, color='blue')\n",
    "        plt.ylabel(\"Register Instruction Count\")\n",
    "        plt.title(\"Register Instructions Count\")\n",
    "        plt.legend()\n",
    "        plt.show()\n",
    "\n",
    "        # Create a bar plot for memory instructions\n",
    "        plt.bar([0], [memory_count], label=\"Memory Instructions\", alpha=0.7, color='orange')\n",
    "        plt.ylabel(\"Memory Instruction Count\")\n",
    "        plt.title(\"Memory Instructions Count\")\n",
    "        plt.legend()\n",
    "        plt.close()\n",
    "\n",
    "    except FileNotFoundError:\n",
    "        pass  # Ignore if the file is not found\n",
    "\n",
    "\n",
    "plot_counters()\n"
   ]
  }
 ],
 "metadata": {
  "kernelspec": {
   "display_name": "Python 3",
   "language": "python",
   "name": "python3"
  },
  "language_info": {
   "codemirror_mode": {
    "name": "ipython",
    "version": 3
   },
   "file_extension": ".py",
   "mimetype": "text/x-python",
   "name": "python",
   "nbconvert_exporter": "python",
   "pygments_lexer": "ipython3",
   "version": "3.7.5"
  }
 },
 "nbformat": 4,
 "nbformat_minor": 2
}
